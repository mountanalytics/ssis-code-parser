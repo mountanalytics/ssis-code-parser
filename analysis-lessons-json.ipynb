{
 "cells": [
  {
   "cell_type": "code",
   "execution_count": 1,
   "metadata": {},
   "outputs": [],
   "source": [
    "import pandas as pd\n",
    "import os\n",
    "import json\n",
    "import xmltodict\n",
    "import json\n",
    "import xml.etree.ElementTree as ET\n",
    "\n"
   ]
  },
  {
   "cell_type": "code",
   "execution_count": 2,
   "metadata": {},
   "outputs": [
    {
     "name": "stdout",
     "output_type": "stream",
     "text": [
      "Converted data/Lesson 6.dtsx to data/output.json\n"
     ]
    }
   ],
   "source": [
    "# save file as json to read it manually\n",
    "\n",
    "def convert_xml_to_json(xml_file, json_file):\n",
    "    with open(xml_file, 'r') as file:\n",
    "        xml_content = file.read()\n",
    "    \n",
    "    # Convert XML to a dictionary\n",
    "    data_dict = xmltodict.parse(xml_content)\n",
    "    \n",
    "    # Convert dictionary to JSON\n",
    "    json_data = json.dumps(data_dict, indent=4)\n",
    "    \n",
    "    # Write JSON data to a file\n",
    "    with open(json_file, 'w') as file:\n",
    "        file.write(json_data)\n",
    "    \n",
    "    print(f\"Converted {xml_file} to {json_file}\")\n",
    "\n",
    "# Specify the input XML file and output JSON file\n",
    "xml_file = 'data/Lesson 6.dtsx'\n",
    "json_file = 'data/output.json'\n",
    "\n",
    "convert_xml_to_json(xml_file, json_file)\n"
   ]
  },
  {
   "cell_type": "code",
   "execution_count": 29,
   "metadata": {},
   "outputs": [
    {
     "name": "stdout",
     "output_type": "stream",
     "text": [
      "DailyETLMain.dtsx\n",
      "import_sql_flowA.dtsx\n",
      "import_sql_flowB.dtsx\n",
      "ISP_01.dtsx\n",
      "ISP_02.dtsx\n"
     ]
    }
   ],
   "source": [
    "class Load():\n",
    "    def __init__(self, path):\n",
    "        self.path = path\n",
    "\n",
    "\n",
    "    def remove_at_signs(self, obj):\n",
    "        if isinstance(obj, dict):\n",
    "            return {key.replace('@', ''): self.remove_at_signs(value) for key, value in obj.items()}\n",
    "        elif isinstance(obj, list):\n",
    "            return [self.remove_at_signs(item) for item in obj]\n",
    "        else:\n",
    "            return obj\n",
    "        \n",
    "\n",
    "    def remove_first_layer(self, json_dict):\n",
    "        # Extract values from the first layer\n",
    "        values = list(json_dict.values())\n",
    "        return values\n",
    "\n",
    "    def run(self):\n",
    "\n",
    "        # Path to the XML file\n",
    "        with open(self.path, 'rb') as f:\n",
    "            self.xml = f.read()\n",
    "\n",
    "   \n",
    "        # open the xml file\n",
    "        o = xmltodict.parse(self.xml)  # every time you reload the file in colab the key changes (file (1).xml becomes file (2).xml ...)\n",
    "\n",
    "        json = self.remove_first_layer(self.remove_at_signs(o))[0]\n",
    "\n",
    "        return json\n",
    "    \n",
    "\n",
    "\n",
    "files = [file for file in os.listdir('data/')]\n",
    "#files = [file for file in os.listdir('data/Creating a Simple ETL Package/Completed Packages/')]\n",
    "\n",
    "nodes_list = []\n",
    "filter_list = []\n",
    "\n",
    "for file in files[:6]:\n",
    "    \n",
    "\n",
    "    if file.endswith('.dtsx'):\n",
    "        print(file)\n",
    "        json = Load(f\"data/{file}\").run()\n",
    "        #json = Load(f'data/Creating a Simple ETL Package/Completed Packages/{file}').run()\n",
    "    #print(json)\n"
   ]
  },
  {
   "cell_type": "code",
   "execution_count": 31,
   "metadata": {},
   "outputs": [
    {
     "name": "stdout",
     "output_type": "stream",
     "text": [
      "Foreach File in Folder\n",
      "Foreach Loop Container\n",
      "\n",
      "Reset the NewFactCurrencyRate table\n",
      "Execute SQL Task - Reset the NewFactCurrencyRate table\n",
      "\n"
     ]
    }
   ],
   "source": [
    "# control flow nodes\n",
    "\n",
    "for node in json['DTS:Executables']['DTS:Executable']:#['DTS:Executables']['DTS:Executable']['DTS:ObjectData']['pipeline']['components']['component'][0]['name'])\n",
    "    print(node['DTS:ObjectName'])\n",
    "    print(node['DTS:Description'])\n",
    "    print()"
   ]
  },
  {
   "cell_type": "code",
   "execution_count": 32,
   "metadata": {},
   "outputs": [
    {
     "name": "stdout",
     "output_type": "stream",
     "text": [
      "{'DTS:refId': 'Package\\\\Foreach File in Folder', 'DTS:CreationName': 'STOCK:FOREACHLOOP', 'DTS:Description': 'Foreach Loop Container', 'DTS:DTSID': '{8D78E772-324D-41B4-9480-22DC48D0C1EA}', 'DTS:ExecutableType': 'STOCK:FOREACHLOOP', 'DTS:LocaleID': '-1', 'DTS:ObjectName': 'Foreach File in Folder', 'DTS:ForEachEnumerator': {'DTS:CreationName': 'Microsoft.ForEachFileEnumerator', 'DTS:DTSID': '{25FD3DDA-4A4E-4404-8079-34DECF189F5F}', 'DTS:ObjectName': '{25FD3DDA-4A4E-4404-8079-34DECF189F5F}', 'DTS:ObjectData': {'ForEachFileEnumeratorProperties': {'FEFEProperty': [{'Folder': 'C: 3ch_ssis\\\\Sample Data'}, {'FileSpec': 'Currency_*.txt'}, {'FileNameRetrievalType': '0'}, {'Recurse': '0'}]}}}, 'DTS:Variables': None, 'DTS:Executables': {'DTS:Executable': {'DTS:refId': 'Package\\\\Foreach File in Folder\\\\Extra Sample Data Task', 'DTS:CreationName': 'Microsoft.Pipeline', 'DTS:Description': 'Data Flow Task', 'DTS:DTSID': '{34AB3A7E-BC22-48BC-A18C-77EE0C341EA5}', 'DTS:ExecutableType': 'Microsoft.Pipeline', 'DTS:LocaleID': '-1', 'DTS:ObjectName': 'Extra Sample Data Task', 'DTS:TaskContact': 'Performs high-performance data extraction, transformation and loading;Microsoft Corporation; Microsoft SQL Server; (C) Microsoft Corporation; All Rights Reserved;http://www.microsoft.com/sql/support/default.asp;1', 'DTS:Variables': None, 'DTS:ObjectData': {'pipeline': {'version': '1', 'components': {'component': [{'refId': 'Package\\\\Foreach File in Folder\\\\Extra Sample Data Task\\\\Lookup Currency Key', 'componentClassID': 'Microsoft.Lookup', 'contactInfo': 'Lookup;Microsoft Corporation; Microsoft SQL Server; (C) Microsoft Corporation; All Rights Reserved; http://www.microsoft.com/sql/support;6', 'description': \"Joins additional columns to the data flow by looking up values in a table. For example, join to the 'employee id' column the employees table to get 'hire date' and 'employee name'. We recommend this transformation when the lookup table can fit into memory.\", 'name': 'Lookup Currency Key', 'usesDispositions': 'true', 'version': '6', 'properties': {'property': [{'dataType': 'System.String', 'description': 'Specifies the SQL statement that generates the lookup table.', 'expressionType': 'Notify', 'name': 'SqlCommand', 'UITypeEditor': 'Microsoft.DataTransformationServices.Controls.ModalMultilineStringEditor, Microsoft.DataTransformationServices.Controls, Version=15.0.0.0, Culture=neutral, PublicKeyToken=89845dcd8080cc91', '#text': \"SELECT * FROM [dbo].[DimCurrency]\\nWHERE [CurrencyAlternateKey]\\nIN ('ARS', 'AUD', 'BRL', 'CAD', 'CNY',\\n    'DEM', 'EUR', 'FRF', 'GBP', 'JPY',\\n    'MXN', 'SAR', 'USD', 'VEB')\"}, {'dataType': 'System.String', 'description': 'Specifies a SQL statement that uses parameters to generate the lookup table.', 'expressionType': 'Notify', 'name': 'SqlCommandParam', 'UITypeEditor': 'Microsoft.DataTransformationServices.Controls.ModalMultilineStringEditor, Microsoft.DataTransformationServices.Controls, Version=15.0.0.0, Culture=neutral, PublicKeyToken=89845dcd8080cc91', '#text': \"select * from (SELECT * FROM [dbo].[DimCurrency]\\nWHERE [CurrencyAlternateKey]\\nIN ('ARS', 'AUD', 'BRL', 'CAD', 'CNY',\\n    'DEM', 'EUR', 'FRF', 'GBP', 'JPY',\\n    'MXN', 'SAR', 'USD', 'VEB')) [refTable]\\nwhere [refTable].[CurrencyAlternateKey] = ?\"}, {'dataType': 'System.Int32', 'description': 'Specifies the type of connection used to access the reference dataset.', 'name': 'ConnectionType', 'typeConverter': 'LookupConnectionType', '#text': '0'}, {'dataType': 'System.Int32', 'description': 'Specifies the cache type of the lookup table.', 'name': 'CacheType', 'typeConverter': 'CacheType', '#text': '0'}, {'dataType': 'System.Int32', 'description': 'Specifies how the Lookup transformation handles rows without matching entries in the reference data set.', 'name': 'NoMatchBehavior', 'typeConverter': 'LookupNoMatchBehavior', '#text': '0'}, {'dataType': 'System.Int32', 'description': 'Specifies the percentage of the cache that is allocated for rows with no matching entries in the reference dataset.', 'name': 'NoMatchCachePercentage', '#text': '0'}, {'dataType': 'System.Int32', 'description': 'Maximum Memory Usage for Reference Cache on a 32 bit platform.', 'name': 'MaxMemoryUsage', '#text': '25'}, {'dataType': 'System.Int64', 'description': 'Maximum Memory Usage for Reference Cache on a 64 bit platform.', 'name': 'MaxMemoryUsage64', '#text': '25'}, {'dataType': 'System.String', 'description': 'Indicates whether to reference metadata in an XML format.', 'name': 'ReferenceMetadataXml', '#text': '<referenceMetadata><referenceColumns><referenceColumn name=\"CurrencyKey\" dataType=\"DT_I4\" length=\"0\" precision=\"0\" scale=\"0\" codePage=\"0\"/><referenceColumn name=\"CurrencyAlternateKey\" dataType=\"DT_WSTR\" length=\"3\" precision=\"0\" scale=\"0\" codePage=\"0\"/><referenceColumn name=\"CurrencyName\" dataType=\"DT_WSTR\" length=\"50\" precision=\"0\" scale=\"0\" codePage=\"0\"/></referenceColumns></referenceMetadata>'}, {'containsID': 'true', 'dataType': 'System.String', 'description': 'Specifies the list of lineage identifiers that map to the parameters that the SQL statement in the SQLCommand property uses. Entries in the list are separated by semicolons.', 'name': 'ParameterMap', '#text': '#{Package\\\\Foreach File in Folder\\\\Extra Sample Data Task\\\\SampleCurrencyData Flat File Source.Outputs[Flat File Source Output].Columns[CurrencyID]};'}, {'dataType': 'System.Int32', 'description': 'Specifies the column code page to use when code page information is unavailable from the data source.', 'name': 'DefaultCodePage', '#text': '1252'}, {'dataType': 'System.Boolean', 'description': 'Determines whether duplicate keys in the reference data should be treated as errors when full cache mode is used.', 'name': 'TreatDuplicateKeysAsError', '#text': 'false'}]}, 'connections': {'connection': {'refId': 'Package\\\\Foreach File in Folder\\\\Extra Sample Data Task\\\\Lookup Currency Key.Connections[OleDbConnection]', 'connectionManagerID': 'Package.ConnectionManagers[AdventureWorksDW2012]', 'connectionManagerRefId': 'Package.ConnectionManagers[AdventureWorksDW2012]', 'description': 'Connection manager used to access lookup data.', 'name': 'OleDbConnection'}}, 'inputs': {'input': {'refId': 'Package\\\\Foreach File in Folder\\\\Extra Sample Data Task\\\\Lookup Currency Key.Inputs[Lookup Input]', 'name': 'Lookup Input', 'inputColumns': {'inputColumn': {'refId': 'Package\\\\Foreach File in Folder\\\\Extra Sample Data Task\\\\Lookup Currency Key.Inputs[Lookup Input].Columns[CurrencyID]', 'cachedDataType': 'wstr', 'cachedLength': '50', 'cachedName': 'CurrencyID', 'lineageId': 'Package\\\\Foreach File in Folder\\\\Extra Sample Data Task\\\\SampleCurrencyData Flat File Source.Outputs[Flat File Source Output].Columns[CurrencyID]', 'properties': {'property': [{'dataType': 'System.String', 'description': 'Specifies the column in the reference table that a column joins.', 'name': 'JoinToReferenceColumn', '#text': 'CurrencyAlternateKey'}, {'dataType': 'System.Null', 'description': 'Specifies the column in the reference table from which a column is copied.', 'name': 'CopyFromReferenceColumn'}]}}}, 'externalMetadataColumns': None}}, 'outputs': {'output': [{'refId': 'Package\\\\Foreach File in Folder\\\\Extra Sample Data Task\\\\Lookup Currency Key.Outputs[Lookup Match Output]', 'errorOrTruncationOperation': 'Lookup', 'errorRowDisposition': 'FailComponent', 'exclusionGroup': '1', 'name': 'Lookup Match Output', 'synchronousInputId': 'Package\\\\Foreach File in Folder\\\\Extra Sample Data Task\\\\Lookup Currency Key.Inputs[Lookup Input]', 'outputColumns': {'outputColumn': {'refId': 'Package\\\\Foreach File in Folder\\\\Extra Sample Data Task\\\\Lookup Currency Key.Outputs[Lookup Match Output].Columns[CurrencyAlternateKey]', 'dataType': 'wstr', 'errorOrTruncationOperation': 'Copy Column', 'length': '3', 'lineageId': 'Package\\\\Foreach File in Folder\\\\Extra Sample Data Task\\\\Lookup Currency Key.Outputs[Lookup Match Output].Columns[CurrencyAlternateKey]', 'name': 'CurrencyAlternateKey', 'truncationRowDisposition': 'FailComponent', 'properties': {'property': {'dataType': 'System.String', 'description': 'Specifies the column in the reference table from which a column is copied.', 'name': 'CopyFromReferenceColumn', '#text': 'CurrencyAlternateKey'}}}}, 'externalMetadataColumns': None}, {'refId': 'Package\\\\Foreach File in Folder\\\\Extra Sample Data Task\\\\Lookup Currency Key.Outputs[Lookup No Match Output]', 'description': 'The Lookup output that handles rows with no matching entries in the reference dataset. Use this output when the NoMatchBehavior property is set to \"Send rows with no matching entries to the no match output.\"', 'exclusionGroup': '1', 'name': 'Lookup No Match Output', 'synchronousInputId': 'Package\\\\Foreach File in Folder\\\\Extra Sample Data Task\\\\Lookup Currency Key.Inputs[Lookup Input]', 'externalMetadataColumns': None}, {'refId': 'Package\\\\Foreach File in Folder\\\\Extra Sample Data Task\\\\Lookup Currency Key.Outputs[Lookup Error Output]', 'exclusionGroup': '1', 'isErrorOut': 'true', 'name': 'Lookup Error Output', 'synchronousInputId': 'Package\\\\Foreach File in Folder\\\\Extra Sample Data Task\\\\Lookup Currency Key.Inputs[Lookup Input]', 'outputColumns': {'outputColumn': [{'refId': 'Package\\\\Foreach File in Folder\\\\Extra Sample Data Task\\\\Lookup Currency Key.Outputs[Lookup Error Output].Columns[ErrorCode]', 'dataType': 'i4', 'lineageId': 'Package\\\\Foreach File in Folder\\\\Extra Sample Data Task\\\\Lookup Currency Key.Outputs[Lookup Error Output].Columns[ErrorCode]', 'name': 'ErrorCode', 'specialFlags': '1'}, {'refId': 'Package\\\\Foreach File in Folder\\\\Extra Sample Data Task\\\\Lookup Currency Key.Outputs[Lookup Error Output].Columns[ErrorColumn]', 'dataType': 'i4', 'lineageId': 'Package\\\\Foreach File in Folder\\\\Extra Sample Data Task\\\\Lookup Currency Key.Outputs[Lookup Error Output].Columns[ErrorColumn]', 'name': 'ErrorColumn', 'specialFlags': '2'}]}, 'externalMetadataColumns': None}]}}, {'refId': 'Package\\\\Foreach File in Folder\\\\Extra Sample Data Task\\\\Lookup Date Key', 'componentClassID': 'Microsoft.Lookup', 'contactInfo': 'Lookup;Microsoft Corporation; Microsoft SQL Server; (C) Microsoft Corporation; All Rights Reserved; http://www.microsoft.com/sql/support;6', 'description': \"Joins additional columns to the data flow by looking up values in a table. For example, join to the 'employee id' column the employees table to get 'hire date' and 'employee name'. We recommend this transformation when the lookup table can fit into memory.\", 'name': 'Lookup Date Key', 'usesDispositions': 'true', 'version': '6', 'properties': {'property': [{'dataType': 'System.String', 'description': 'Specifies the SQL statement that generates the lookup table.', 'expressionType': 'Notify', 'name': 'SqlCommand', 'UITypeEditor': 'Microsoft.DataTransformationServices.Controls.ModalMultilineStringEditor, Microsoft.DataTransformationServices.Controls, Version=15.0.0.0, Culture=neutral, PublicKeyToken=89845dcd8080cc91', '#text': 'select * from [dbo].[DimDate]'}, {'dataType': 'System.String', 'description': 'Specifies a SQL statement that uses parameters to generate the lookup table.', 'expressionType': 'Notify', 'name': 'SqlCommandParam', 'UITypeEditor': 'Microsoft.DataTransformationServices.Controls.ModalMultilineStringEditor, Microsoft.DataTransformationServices.Controls, Version=15.0.0.0, Culture=neutral, PublicKeyToken=89845dcd8080cc91', '#text': 'select * from (select * from [dbo].[DimDate]) [refTable]\\nwhere [refTable].[FullDateAlternateKey] = ?'}, {'dataType': 'System.Int32', 'description': 'Specifies the type of connection used to access the reference dataset.', 'name': 'ConnectionType', 'typeConverter': 'LookupConnectionType', '#text': '0'}, {'dataType': 'System.Int32', 'description': 'Specifies the cache type of the lookup table.', 'name': 'CacheType', 'typeConverter': 'CacheType', '#text': '1'}, {'dataType': 'System.Int32', 'description': 'Specifies how the Lookup transformation handles rows without matching entries in the reference data set.', 'name': 'NoMatchBehavior', 'typeConverter': 'LookupNoMatchBehavior', '#text': '0'}, {'dataType': 'System.Int32', 'description': 'Specifies the percentage of the cache that is allocated for rows with no matching entries in the reference dataset.', 'name': 'NoMatchCachePercentage', '#text': '0'}, {'dataType': 'System.Int32', 'description': 'Maximum Memory Usage for Reference Cache on a 32 bit platform.', 'name': 'MaxMemoryUsage', '#text': '25'}, {'dataType': 'System.Int64', 'description': 'Maximum Memory Usage for Reference Cache on a 64 bit platform.', 'name': 'MaxMemoryUsage64', '#text': '25'}, {'dataType': 'System.String', 'description': 'Indicates whether to reference metadata in an XML format.', 'name': 'ReferenceMetadataXml', '#text': '<referenceMetadata><referenceColumns><referenceColumn name=\"DateKey\" dataType=\"DT_I4\" length=\"0\" precision=\"0\" scale=\"0\" codePage=\"0\"/><referenceColumn name=\"FullDateAlternateKey\" dataType=\"DT_DBDATE\" length=\"0\" precision=\"0\" scale=\"0\" codePage=\"0\"/><referenceColumn name=\"DayNumberOfWeek\" dataType=\"DT_UI1\" length=\"0\" precision=\"0\" scale=\"0\" codePage=\"0\"/><referenceColumn name=\"EnglishDayNameOfWeek\" dataType=\"DT_WSTR\" length=\"10\" precision=\"0\" scale=\"0\" codePage=\"0\"/><referenceColumn name=\"SpanishDayNameOfWeek\" dataType=\"DT_WSTR\" length=\"10\" precision=\"0\" scale=\"0\" codePage=\"0\"/><referenceColumn name=\"FrenchDayNameOfWeek\" dataType=\"DT_WSTR\" length=\"10\" precision=\"0\" scale=\"0\" codePage=\"0\"/><referenceColumn name=\"DayNumberOfMonth\" dataType=\"DT_UI1\" length=\"0\" precision=\"0\" scale=\"0\" codePage=\"0\"/><referenceColumn name=\"DayNumberOfYear\" dataType=\"DT_I2\" length=\"0\" precision=\"0\" scale=\"0\" codePage=\"0\"/><referenceColumn name=\"WeekNumberOfYear\" dataType=\"DT_UI1\" length=\"0\" precision=\"0\" scale=\"0\" codePage=\"0\"/><referenceColumn name=\"EnglishMonthName\" dataType=\"DT_WSTR\" length=\"10\" precision=\"0\" scale=\"0\" codePage=\"0\"/><referenceColumn name=\"SpanishMonthName\" dataType=\"DT_WSTR\" length=\"10\" precision=\"0\" scale=\"0\" codePage=\"0\"/><referenceColumn name=\"FrenchMonthName\" dataType=\"DT_WSTR\" length=\"10\" precision=\"0\" scale=\"0\" codePage=\"0\"/><referenceColumn name=\"MonthNumberOfYear\" dataType=\"DT_UI1\" length=\"0\" precision=\"0\" scale=\"0\" codePage=\"0\"/><referenceColumn name=\"CalendarQuarter\" dataType=\"DT_UI1\" length=\"0\" precision=\"0\" scale=\"0\" codePage=\"0\"/><referenceColumn name=\"CalendarYear\" dataType=\"DT_I2\" length=\"0\" precision=\"0\" scale=\"0\" codePage=\"0\"/><referenceColumn name=\"CalendarSemester\" dataType=\"DT_UI1\" length=\"0\" precision=\"0\" scale=\"0\" codePage=\"0\"/><referenceColumn name=\"FiscalQuarter\" dataType=\"DT_UI1\" length=\"0\" precision=\"0\" scale=\"0\" codePage=\"0\"/><referenceColumn name=\"FiscalYear\" dataType=\"DT_I2\" length=\"0\" precision=\"0\" scale=\"0\" codePage=\"0\"/><referenceColumn name=\"FiscalSemester\" dataType=\"DT_UI1\" length=\"0\" precision=\"0\" scale=\"0\" codePage=\"0\"/></referenceColumns></referenceMetadata>'}, {'containsID': 'true', 'dataType': 'System.String', 'description': 'Specifies the list of lineage identifiers that map to the parameters that the SQL statement in the SQLCommand property uses. Entries in the list are separated by semicolons.', 'name': 'ParameterMap', '#text': '#{Package\\\\Foreach File in Folder\\\\Extra Sample Data Task\\\\SampleCurrencyData Flat File Source.Outputs[Flat File Source Output].Columns[CurrencyDate]};'}, {'dataType': 'System.Int32', 'description': 'Specifies the column code page to use when code page information is unavailable from the data source.', 'name': 'DefaultCodePage', '#text': '1252'}, {'dataType': 'System.Boolean', 'description': 'Determines whether duplicate keys in the reference data should be treated as errors when full cache mode is used.', 'name': 'TreatDuplicateKeysAsError', '#text': 'false'}]}, 'connections': {'connection': {'refId': 'Package\\\\Foreach File in Folder\\\\Extra Sample Data Task\\\\Lookup Date Key.Connections[OleDbConnection]', 'connectionManagerID': 'Package.ConnectionManagers[AdventureWorksDW2012]', 'connectionManagerRefId': 'Package.ConnectionManagers[AdventureWorksDW2012]', 'description': 'Connection manager used to access lookup data.', 'name': 'OleDbConnection'}}, 'inputs': {'input': {'refId': 'Package\\\\Foreach File in Folder\\\\Extra Sample Data Task\\\\Lookup Date Key.Inputs[Lookup Input]', 'name': 'Lookup Input', 'inputColumns': {'inputColumn': {'refId': 'Package\\\\Foreach File in Folder\\\\Extra Sample Data Task\\\\Lookup Date Key.Inputs[Lookup Input].Columns[CurrencyDate]', 'cachedDataType': 'dbDate', 'cachedName': 'CurrencyDate', 'lineageId': 'Package\\\\Foreach File in Folder\\\\Extra Sample Data Task\\\\SampleCurrencyData Flat File Source.Outputs[Flat File Source Output].Columns[CurrencyDate]', 'properties': {'property': [{'dataType': 'System.String', 'description': 'Specifies the column in the reference table that a column joins.', 'name': 'JoinToReferenceColumn', '#text': 'FullDateAlternateKey'}, {'dataType': 'System.Null', 'description': 'Specifies the column in the reference table from which a column is copied.', 'name': 'CopyFromReferenceColumn'}]}}}, 'externalMetadataColumns': None}}, 'outputs': {'output': [{'refId': 'Package\\\\Foreach File in Folder\\\\Extra Sample Data Task\\\\Lookup Date Key.Outputs[Lookup Match Output]', 'errorOrTruncationOperation': 'Lookup', 'errorRowDisposition': 'FailComponent', 'exclusionGroup': '1', 'name': 'Lookup Match Output', 'synchronousInputId': 'Package\\\\Foreach File in Folder\\\\Extra Sample Data Task\\\\Lookup Date Key.Inputs[Lookup Input]', 'outputColumns': {'outputColumn': {'refId': 'Package\\\\Foreach File in Folder\\\\Extra Sample Data Task\\\\Lookup Date Key.Outputs[Lookup Match Output].Columns[DateKey]', 'dataType': 'i4', 'errorOrTruncationOperation': 'Copy Column', 'lineageId': 'Package\\\\Foreach File in Folder\\\\Extra Sample Data Task\\\\Lookup Date Key.Outputs[Lookup Match Output].Columns[DateKey]', 'name': 'DateKey', 'truncationRowDisposition': 'FailComponent', 'properties': {'property': {'dataType': 'System.String', 'description': 'Specifies the column in the reference table from which a column is copied.', 'name': 'CopyFromReferenceColumn', '#text': 'DateKey'}}}}, 'externalMetadataColumns': None}, {'refId': 'Package\\\\Foreach File in Folder\\\\Extra Sample Data Task\\\\Lookup Date Key.Outputs[Lookup No Match Output]', 'description': 'The Lookup output that handles rows with no matching entries in the reference dataset. Use this output when the NoMatchBehavior property is set to \"Send rows with no matching entries to the no match output.\"', 'exclusionGroup': '1', 'name': 'Lookup No Match Output', 'synchronousInputId': 'Package\\\\Foreach File in Folder\\\\Extra Sample Data Task\\\\Lookup Date Key.Inputs[Lookup Input]', 'externalMetadataColumns': None}, {'refId': 'Package\\\\Foreach File in Folder\\\\Extra Sample Data Task\\\\Lookup Date Key.Outputs[Lookup Error Output]', 'exclusionGroup': '1', 'isErrorOut': 'true', 'name': 'Lookup Error Output', 'synchronousInputId': 'Package\\\\Foreach File in Folder\\\\Extra Sample Data Task\\\\Lookup Date Key.Inputs[Lookup Input]', 'outputColumns': {'outputColumn': [{'refId': 'Package\\\\Foreach File in Folder\\\\Extra Sample Data Task\\\\Lookup Date Key.Outputs[Lookup Error Output].Columns[ErrorCode]', 'dataType': 'i4', 'lineageId': 'Package\\\\Foreach File in Folder\\\\Extra Sample Data Task\\\\Lookup Date Key.Outputs[Lookup Error Output].Columns[ErrorCode]', 'name': 'ErrorCode', 'specialFlags': '1'}, {'refId': 'Package\\\\Foreach File in Folder\\\\Extra Sample Data Task\\\\Lookup Date Key.Outputs[Lookup Error Output].Columns[ErrorColumn]', 'dataType': 'i4', 'lineageId': 'Package\\\\Foreach File in Folder\\\\Extra Sample Data Task\\\\Lookup Date Key.Outputs[Lookup Error Output].Columns[ErrorColumn]', 'name': 'ErrorColumn', 'specialFlags': '2'}]}, 'externalMetadataColumns': None}]}}, {'refId': 'Package\\\\Foreach File in Folder\\\\Extra Sample Data Task\\\\Sample OLE DB Destination', 'componentClassID': 'Microsoft.OLEDBDestination', 'contactInfo': 'OLE DB Destination;Microsoft Corporation; Microsoft SQL Server; (C) Microsoft Corporation; All Rights Reserved; http://www.microsoft.com/sql/support;4', 'description': 'OLE DB Destination', 'name': 'Sample OLE DB Destination', 'usesDispositions': 'true', 'version': '4', 'properties': {'property': [{'dataType': 'System.Int32', 'description': 'The number of seconds before a command times out.  A value of 0 indicates an infinite time-out.', 'name': 'CommandTimeout', '#text': '0'}, {'dataType': 'System.String', 'description': 'Specifies the name of the database object used to open a rowset.', 'name': 'OpenRowset', '#text': '[NewFactCurrencyRate]'}, {'dataType': 'System.String', 'description': 'Specifies the variable that contains the name of the database object used to open a rowset.', 'name': 'OpenRowsetVariable'}, {'dataType': 'System.String', 'description': 'The SQL command to be executed.', 'name': 'SqlCommand', 'UITypeEditor': 'Microsoft.DataTransformationServices.Controls.ModalMultilineStringEditor, Microsoft.DataTransformationServices.Controls, Version=15.0.0.0, Culture=neutral, PublicKeyToken=89845dcd8080cc91'}, {'dataType': 'System.Int32', 'description': 'Specifies the column code page to use when code page information is unavailable from the data source.', 'name': 'DefaultCodePage', '#text': '1252'}, {'dataType': 'System.Boolean', 'description': 'Forces the use of the DefaultCodePage property value when describing character data.', 'name': 'AlwaysUseDefaultCodePage', '#text': 'false'}, {'dataType': 'System.Int32', 'description': 'Specifies the mode used to access the database.', 'name': 'AccessMode', 'typeConverter': 'AccessMode', '#text': '3'}, {'dataType': 'System.Boolean', 'description': 'Indicates whether the values supplied for identity columns will be copied to the destination. If false, values for identity columns will be auto-generated at the destination. Applies only if fast load is turned on.', 'name': 'FastLoadKeepIdentity', '#text': 'false'}, {'dataType': 'System.Boolean', 'description': 'Indicates whether the columns containing null will have null inserted in the destination. If false, columns containing null will have their default values inserted at the destination. Applies only if fast load is turned on.', 'name': 'FastLoadKeepNulls', '#text': 'false'}, {'dataType': 'System.String', 'description': 'Specifies options to be used with fast load.  Applies only if fast load is turned on.', 'name': 'FastLoadOptions', '#text': 'TABLOCK,CHECK_CONSTRAINTS'}, {'dataType': 'System.Int32', 'description': 'Specifies when commits are issued during data insertion.  A value of 0 specifies that one commit will be issued at the end of data insertion.  Applies only if fast load is turned on.', 'name': 'FastLoadMaxInsertCommitSize', '#text': '2147483647'}]}, 'connections': {'connection': {'refId': 'Package\\\\Foreach File in Folder\\\\Extra Sample Data Task\\\\Sample OLE DB Destination.Connections[OleDbConnection]', 'connectionManagerID': 'Package.ConnectionManagers[AdventureWorksDW2012]', 'connectionManagerRefId': 'Package.ConnectionManagers[AdventureWorksDW2012]', 'description': 'The OLE DB runtime connection used to access the database.', 'name': 'OleDbConnection'}}, 'inputs': {'input': {'refId': 'Package\\\\Foreach File in Folder\\\\Extra Sample Data Task\\\\Sample OLE DB Destination.Inputs[OLE DB Destination Input]', 'errorOrTruncationOperation': 'Insert', 'errorRowDisposition': 'FailComponent', 'hasSideEffects': 'true', 'name': 'OLE DB Destination Input', 'inputColumns': {'inputColumn': [{'refId': 'Package\\\\Foreach File in Folder\\\\Extra Sample Data Task\\\\Sample OLE DB Destination.Inputs[OLE DB Destination Input].Columns[AverageRate]', 'cachedDataType': 'r4', 'cachedName': 'AverageRate', 'externalMetadataColumnId': 'Package\\\\Foreach File in Folder\\\\Extra Sample Data Task\\\\Sample OLE DB Destination.Inputs[OLE DB Destination Input].ExternalColumns[AverageRate]', 'lineageId': 'Package\\\\Foreach File in Folder\\\\Extra Sample Data Task\\\\SampleCurrencyData Flat File Source.Outputs[Flat File Source Output].Columns[AverageRate]'}, {'refId': 'Package\\\\Foreach File in Folder\\\\Extra Sample Data Task\\\\Sample OLE DB Destination.Inputs[OLE DB Destination Input].Columns[CurrencyID]', 'cachedDataType': 'wstr', 'cachedLength': '50', 'cachedName': 'CurrencyID', 'externalMetadataColumnId': 'Package\\\\Foreach File in Folder\\\\Extra Sample Data Task\\\\Sample OLE DB Destination.Inputs[OLE DB Destination Input].ExternalColumns[CurrencyID]', 'lineageId': 'Package\\\\Foreach File in Folder\\\\Extra Sample Data Task\\\\SampleCurrencyData Flat File Source.Outputs[Flat File Source Output].Columns[CurrencyID]'}, {'refId': 'Package\\\\Foreach File in Folder\\\\Extra Sample Data Task\\\\Sample OLE DB Destination.Inputs[OLE DB Destination Input].Columns[CurrencyDate]', 'cachedDataType': 'dbDate', 'cachedName': 'CurrencyDate', 'externalMetadataColumnId': 'Package\\\\Foreach File in Folder\\\\Extra Sample Data Task\\\\Sample OLE DB Destination.Inputs[OLE DB Destination Input].ExternalColumns[CurrencyDate]', 'lineageId': 'Package\\\\Foreach File in Folder\\\\Extra Sample Data Task\\\\SampleCurrencyData Flat File Source.Outputs[Flat File Source Output].Columns[CurrencyDate]'}, {'refId': 'Package\\\\Foreach File in Folder\\\\Extra Sample Data Task\\\\Sample OLE DB Destination.Inputs[OLE DB Destination Input].Columns[EndOfDayRate]', 'cachedDataType': 'r4', 'cachedName': 'EndOfDayRate', 'externalMetadataColumnId': 'Package\\\\Foreach File in Folder\\\\Extra Sample Data Task\\\\Sample OLE DB Destination.Inputs[OLE DB Destination Input].ExternalColumns[EndOfDayRate]', 'lineageId': 'Package\\\\Foreach File in Folder\\\\Extra Sample Data Task\\\\SampleCurrencyData Flat File Source.Outputs[Flat File Source Output].Columns[EndOfDayRate]'}, {'refId': 'Package\\\\Foreach File in Folder\\\\Extra Sample Data Task\\\\Sample OLE DB Destination.Inputs[OLE DB Destination Input].Columns[CurrencyAlternateKey]', 'cachedDataType': 'wstr', 'cachedLength': '3', 'cachedName': 'CurrencyAlternateKey', 'externalMetadataColumnId': 'Package\\\\Foreach File in Folder\\\\Extra Sample Data Task\\\\Sample OLE DB Destination.Inputs[OLE DB Destination Input].ExternalColumns[CurrencyAlternateKey]', 'lineageId': 'Package\\\\Foreach File in Folder\\\\Extra Sample Data Task\\\\Lookup Currency Key.Outputs[Lookup Match Output].Columns[CurrencyAlternateKey]'}, {'refId': 'Package\\\\Foreach File in Folder\\\\Extra Sample Data Task\\\\Sample OLE DB Destination.Inputs[OLE DB Destination Input].Columns[DateKey]', 'cachedDataType': 'i4', 'cachedName': 'DateKey', 'externalMetadataColumnId': 'Package\\\\Foreach File in Folder\\\\Extra Sample Data Task\\\\Sample OLE DB Destination.Inputs[OLE DB Destination Input].ExternalColumns[DateKey]', 'lineageId': 'Package\\\\Foreach File in Folder\\\\Extra Sample Data Task\\\\Lookup Date Key.Outputs[Lookup Match Output].Columns[DateKey]'}]}, 'externalMetadataColumns': {'isUsed': 'True', 'externalMetadataColumn': [{'refId': 'Package\\\\Foreach File in Folder\\\\Extra Sample Data Task\\\\Sample OLE DB Destination.Inputs[OLE DB Destination Input].ExternalColumns[AverageRate]', 'dataType': 'r4', 'name': 'AverageRate'}, {'refId': 'Package\\\\Foreach File in Folder\\\\Extra Sample Data Task\\\\Sample OLE DB Destination.Inputs[OLE DB Destination Input].ExternalColumns[CurrencyID]', 'dataType': 'wstr', 'length': '50', 'name': 'CurrencyID'}, {'refId': 'Package\\\\Foreach File in Folder\\\\Extra Sample Data Task\\\\Sample OLE DB Destination.Inputs[OLE DB Destination Input].ExternalColumns[CurrencyDate]', 'dataType': 'dbDate', 'name': 'CurrencyDate'}, {'refId': 'Package\\\\Foreach File in Folder\\\\Extra Sample Data Task\\\\Sample OLE DB Destination.Inputs[OLE DB Destination Input].ExternalColumns[EndOfDayRate]', 'dataType': 'r4', 'name': 'EndOfDayRate'}, {'refId': 'Package\\\\Foreach File in Folder\\\\Extra Sample Data Task\\\\Sample OLE DB Destination.Inputs[OLE DB Destination Input].ExternalColumns[CurrencyAlternateKey]', 'dataType': 'wstr', 'length': '3', 'name': 'CurrencyAlternateKey'}, {'refId': 'Package\\\\Foreach File in Folder\\\\Extra Sample Data Task\\\\Sample OLE DB Destination.Inputs[OLE DB Destination Input].ExternalColumns[DateKey]', 'dataType': 'i4', 'name': 'DateKey'}]}}}, 'outputs': {'output': {'refId': 'Package\\\\Foreach File in Folder\\\\Extra Sample Data Task\\\\Sample OLE DB Destination.Outputs[OLE DB Destination Error Output]', 'exclusionGroup': '1', 'isErrorOut': 'true', 'name': 'OLE DB Destination Error Output', 'synchronousInputId': 'Package\\\\Foreach File in Folder\\\\Extra Sample Data Task\\\\Sample OLE DB Destination.Inputs[OLE DB Destination Input]', 'outputColumns': {'outputColumn': [{'refId': 'Package\\\\Foreach File in Folder\\\\Extra Sample Data Task\\\\Sample OLE DB Destination.Outputs[OLE DB Destination Error Output].Columns[ErrorCode]', 'dataType': 'i4', 'lineageId': 'Package\\\\Foreach File in Folder\\\\Extra Sample Data Task\\\\Sample OLE DB Destination.Outputs[OLE DB Destination Error Output].Columns[ErrorCode]', 'name': 'ErrorCode', 'specialFlags': '1'}, {'refId': 'Package\\\\Foreach File in Folder\\\\Extra Sample Data Task\\\\Sample OLE DB Destination.Outputs[OLE DB Destination Error Output].Columns[ErrorColumn]', 'dataType': 'i4', 'lineageId': 'Package\\\\Foreach File in Folder\\\\Extra Sample Data Task\\\\Sample OLE DB Destination.Outputs[OLE DB Destination Error Output].Columns[ErrorColumn]', 'name': 'ErrorColumn', 'specialFlags': '2'}]}, 'externalMetadataColumns': None}}}, {'refId': 'Package\\\\Foreach File in Folder\\\\Extra Sample Data Task\\\\SampleCurrencyData Flat File Source', 'componentClassID': 'Microsoft.FlatFileSource', 'contactInfo': 'Flat File Source;Microsoft Corporation; Microsoft SQL Server; (C) Microsoft Corporation; All Rights Reserved; http://www.microsoft.com/sql/support;1', 'description': 'Flat File Source', 'localeId': '2057', 'name': 'SampleCurrencyData Flat File Source', 'usesDispositions': 'true', 'version': '1', 'properties': {'property': [{'dataType': 'System.Boolean', 'description': 'Specifies whether zero-length columns are treated as null.', 'name': 'RetainNulls', '#text': 'false'}, {'dataType': 'System.String', 'description': 'Specifies the name of an output column containing the file name. If no name is specified, no output column containing the file name will be generated.', 'name': 'FileNameColumnName'}]}, 'connections': {'connection': {'refId': 'Package\\\\Foreach File in Folder\\\\Extra Sample Data Task\\\\SampleCurrencyData Flat File Source.Connections[FlatFileConnection]', 'connectionManagerID': 'Package.ConnectionManagers[SampleCurrencyData.txt]', 'connectionManagerRefId': 'Package.ConnectionManagers[SampleCurrencyData.txt]', 'name': 'FlatFileConnection'}}, 'outputs': {'output': [{'refId': 'Package\\\\Foreach File in Folder\\\\Extra Sample Data Task\\\\SampleCurrencyData Flat File Source.Outputs[Flat File Source Output]', 'name': 'Flat File Source Output', 'outputColumns': {'outputColumn': [{'refId': 'Package\\\\Foreach File in Folder\\\\Extra Sample Data Task\\\\SampleCurrencyData Flat File Source.Outputs[Flat File Source Output].Columns[AverageRate]', 'dataType': 'r4', 'errorOrTruncationOperation': 'Conversion', 'errorRowDisposition': 'FailComponent', 'externalMetadataColumnId': 'Package\\\\Foreach File in Folder\\\\Extra Sample Data Task\\\\SampleCurrencyData Flat File Source.Outputs[Flat File Source Output].ExternalColumns[AverageRate]', 'lineageId': 'Package\\\\Foreach File in Folder\\\\Extra Sample Data Task\\\\SampleCurrencyData Flat File Source.Outputs[Flat File Source Output].Columns[AverageRate]', 'name': 'AverageRate', 'truncationRowDisposition': 'FailComponent', 'properties': {'property': [{'dataType': 'System.Boolean', 'description': 'Indicates whether the column uses the faster, locale-neutral parsing routines.', 'name': 'FastParse', '#text': 'false'}, {'dataType': 'System.Boolean', 'description': 'Indicates whether the data is in binary format.', 'name': 'UseBinaryFormat', '#text': 'false'}]}}, {'refId': 'Package\\\\Foreach File in Folder\\\\Extra Sample Data Task\\\\SampleCurrencyData Flat File Source.Outputs[Flat File Source Output].Columns[CurrencyID]', 'dataType': 'wstr', 'errorOrTruncationOperation': 'Conversion', 'errorRowDisposition': 'FailComponent', 'externalMetadataColumnId': 'Package\\\\Foreach File in Folder\\\\Extra Sample Data Task\\\\SampleCurrencyData Flat File Source.Outputs[Flat File Source Output].ExternalColumns[CurrencyID]', 'length': '50', 'lineageId': 'Package\\\\Foreach File in Folder\\\\Extra Sample Data Task\\\\SampleCurrencyData Flat File Source.Outputs[Flat File Source Output].Columns[CurrencyID]', 'name': 'CurrencyID', 'truncationRowDisposition': 'FailComponent', 'properties': {'property': [{'dataType': 'System.Boolean', 'description': 'Indicates whether the column uses the faster, locale-neutral parsing routines.', 'name': 'FastParse', '#text': 'false'}, {'dataType': 'System.Boolean', 'description': 'Indicates whether the data is in binary format.', 'name': 'UseBinaryFormat', '#text': 'false'}]}}, {'refId': 'Package\\\\Foreach File in Folder\\\\Extra Sample Data Task\\\\SampleCurrencyData Flat File Source.Outputs[Flat File Source Output].Columns[CurrencyDate]', 'dataType': 'dbDate', 'errorOrTruncationOperation': 'Conversion', 'errorRowDisposition': 'FailComponent', 'externalMetadataColumnId': 'Package\\\\Foreach File in Folder\\\\Extra Sample Data Task\\\\SampleCurrencyData Flat File Source.Outputs[Flat File Source Output].ExternalColumns[CurrencyDate]', 'lineageId': 'Package\\\\Foreach File in Folder\\\\Extra Sample Data Task\\\\SampleCurrencyData Flat File Source.Outputs[Flat File Source Output].Columns[CurrencyDate]', 'name': 'CurrencyDate', 'truncationRowDisposition': 'FailComponent', 'properties': {'property': [{'dataType': 'System.Boolean', 'description': 'Indicates whether the column uses the faster, locale-neutral parsing routines.', 'name': 'FastParse', '#text': 'false'}, {'dataType': 'System.Boolean', 'description': 'Indicates whether the data is in binary format.', 'name': 'UseBinaryFormat', '#text': 'false'}]}}, {'refId': 'Package\\\\Foreach File in Folder\\\\Extra Sample Data Task\\\\SampleCurrencyData Flat File Source.Outputs[Flat File Source Output].Columns[EndOfDayRate]', 'dataType': 'r4', 'errorOrTruncationOperation': 'Conversion', 'errorRowDisposition': 'FailComponent', 'externalMetadataColumnId': 'Package\\\\Foreach File in Folder\\\\Extra Sample Data Task\\\\SampleCurrencyData Flat File Source.Outputs[Flat File Source Output].ExternalColumns[EndOfDayRate]', 'lineageId': 'Package\\\\Foreach File in Folder\\\\Extra Sample Data Task\\\\SampleCurrencyData Flat File Source.Outputs[Flat File Source Output].Columns[EndOfDayRate]', 'name': 'EndOfDayRate', 'truncationRowDisposition': 'FailComponent', 'properties': {'property': [{'dataType': 'System.Boolean', 'description': 'Indicates whether the column uses the faster, locale-neutral parsing routines.', 'name': 'FastParse', '#text': 'false'}, {'dataType': 'System.Boolean', 'description': 'Indicates whether the data is in binary format.', 'name': 'UseBinaryFormat', '#text': 'false'}]}}]}, 'externalMetadataColumns': {'isUsed': 'True', 'externalMetadataColumn': [{'refId': 'Package\\\\Foreach File in Folder\\\\Extra Sample Data Task\\\\SampleCurrencyData Flat File Source.Outputs[Flat File Source Output].ExternalColumns[AverageRate]', 'codePage': '1252', 'dataType': 'str', 'length': '50', 'name': 'AverageRate'}, {'refId': 'Package\\\\Foreach File in Folder\\\\Extra Sample Data Task\\\\SampleCurrencyData Flat File Source.Outputs[Flat File Source Output].ExternalColumns[CurrencyID]', 'dataType': 'wstr', 'length': '50', 'name': 'CurrencyID'}, {'refId': 'Package\\\\Foreach File in Folder\\\\Extra Sample Data Task\\\\SampleCurrencyData Flat File Source.Outputs[Flat File Source Output].ExternalColumns[CurrencyDate]', 'dataType': 'dbDate', 'name': 'CurrencyDate'}, {'refId': 'Package\\\\Foreach File in Folder\\\\Extra Sample Data Task\\\\SampleCurrencyData Flat File Source.Outputs[Flat File Source Output].ExternalColumns[EndOfDayRate]', 'codePage': '1252', 'dataType': 'str', 'length': '50', 'name': 'EndOfDayRate'}]}}, {'refId': 'Package\\\\Foreach File in Folder\\\\Extra Sample Data Task\\\\SampleCurrencyData Flat File Source.Outputs[Flat File Source Error Output]', 'isErrorOut': 'true', 'name': 'Flat File Source Error Output', 'outputColumns': {'outputColumn': [{'refId': 'Package\\\\Foreach File in Folder\\\\Extra Sample Data Task\\\\SampleCurrencyData Flat File Source.Outputs[Flat File Source Error Output].Columns[Flat File Source Error Output Column]', 'codePage': '1252', 'dataType': 'text', 'description': 'Flat File Source Error Output Column', 'lineageId': 'Package\\\\Foreach File in Folder\\\\Extra Sample Data Task\\\\SampleCurrencyData Flat File Source.Outputs[Flat File Source Error Output].Columns[Flat File Source Error Output Column]', 'name': 'Flat File Source Error Output Column'}, {'refId': 'Package\\\\Foreach File in Folder\\\\Extra Sample Data Task\\\\SampleCurrencyData Flat File Source.Outputs[Flat File Source Error Output].Columns[ErrorCode]', 'dataType': 'i4', 'lineageId': 'Package\\\\Foreach File in Folder\\\\Extra Sample Data Task\\\\SampleCurrencyData Flat File Source.Outputs[Flat File Source Error Output].Columns[ErrorCode]', 'name': 'ErrorCode', 'specialFlags': '1'}, {'refId': 'Package\\\\Foreach File in Folder\\\\Extra Sample Data Task\\\\SampleCurrencyData Flat File Source.Outputs[Flat File Source Error Output].Columns[ErrorColumn]', 'dataType': 'i4', 'lineageId': 'Package\\\\Foreach File in Folder\\\\Extra Sample Data Task\\\\SampleCurrencyData Flat File Source.Outputs[Flat File Source Error Output].Columns[ErrorColumn]', 'name': 'ErrorColumn', 'specialFlags': '2'}]}, 'externalMetadataColumns': None}]}}]}, 'paths': {'path': [{'refId': 'Package\\\\Foreach File in Folder\\\\Extra Sample Data Task.Paths[Flat File Source Output]', 'endId': 'Package\\\\Foreach File in Folder\\\\Extra Sample Data Task\\\\Lookup Currency Key.Inputs[Lookup Input]', 'name': 'Flat File Source Output', 'startId': 'Package\\\\Foreach File in Folder\\\\Extra Sample Data Task\\\\SampleCurrencyData Flat File Source.Outputs[Flat File Source Output]'}, {'refId': 'Package\\\\Foreach File in Folder\\\\Extra Sample Data Task.Paths[Lookup Match Output]', 'endId': 'Package\\\\Foreach File in Folder\\\\Extra Sample Data Task\\\\Lookup Date Key.Inputs[Lookup Input]', 'name': 'Lookup Match Output', 'startId': 'Package\\\\Foreach File in Folder\\\\Extra Sample Data Task\\\\Lookup Currency Key.Outputs[Lookup Match Output]'}, {'refId': 'Package\\\\Foreach File in Folder\\\\Extra Sample Data Task.Paths[Lookup Match Output1]', 'endId': 'Package\\\\Foreach File in Folder\\\\Extra Sample Data Task\\\\Sample OLE DB Destination.Inputs[OLE DB Destination Input]', 'name': 'Lookup Match Output', 'startId': 'Package\\\\Foreach File in Folder\\\\Extra Sample Data Task\\\\Lookup Date Key.Outputs[Lookup Match Output]'}]}}}}}, 'DTS:ForEachVariableMappings': {'DTS:ForEachVariableMapping': {'DTS:CreationName': '', 'DTS:DTSID': '{C9172870-68C3-4BED-B4FB-3D366D3AC96C}', 'DTS:ObjectName': '{C9172870-68C3-4BED-B4FB-3D366D3AC96C}', 'DTS:ValueIndex': '0', 'DTS:VariableName': 'User::varFileName'}}}\n",
      " control node name:  Foreach File in Folder\n",
      "\n",
      "{'DTS:refId': 'Package\\\\Reset the NewFactCurrencyRate table', 'DTS:CreationName': 'Microsoft.ExecuteSQLTask', 'DTS:Description': 'Execute SQL Task - Reset the NewFactCurrencyRate table', 'DTS:DTSID': '{64A31708-4F22-45D9-A7E9-ACA1D19583E5}', 'DTS:ExecutableType': 'Microsoft.ExecuteSQLTask', 'DTS:LocaleID': '-1', 'DTS:ObjectName': 'Reset the NewFactCurrencyRate table', 'DTS:ThreadHint': '0', 'DTS:Variables': None, 'DTS:ObjectData': {'SQLTask:SqlTaskData': {'SQLTask:Connection': '{31048050-0EFE-4A02-AE66-8EA383EB43B4}', 'SQLTask:SqlStatementSource': \"DECLARE @OBJ_EXISTS AS BIT;\\n\\tSET @OBJ_EXISTS = 0;\\n\\n\\tDECLARE @OBJ_NAME AS VARCHAR(100);\\n\\tSET @OBJ_NAME = N'NewFactCurrencyRate';\\n\\xa0\\n\\tIF NOT EXISTS(SELECT 1 FROM sys.Tables WHERE Name = @OBJ_NAME AND Type = N'U')\\n\\tBEGIN\\n\\t\\tCREATE TABLE NewFactCurrencyRate (\\n\\t\\t\\t[AverageRate] REAL,\\n\\t\\t\\t[CurrencyID] NVARCHAR(50),\\n\\t\\t\\t[CurrencyDate] DATE,\\n\\t\\t\\t[EndOfDayRate] REAL,\\n\\t\\t\\t[CurrencyAlternateKey] NVARCHAR(3),\\n\\t\\t\\t[DateKey] INT\\n\\t\\t)\\n\\tEND\\n\\tELSE\\n\\tBEGIN\\n\\t\\tTRUNCATE TABLE NewFactCurrencyRate;\\n\\tEND\\n\\n-- EXECUTE [AdventureWorksDW2012].[dbo].[ResetNewFactCurrencyRate];\", 'xmlns:SQLTask': 'www.microsoft.com/sqlserver/dts/tasks/sqltask'}}}\n",
      " control node name:  Reset the NewFactCurrencyRate table\n",
      "\n"
     ]
    }
   ],
   "source": [
    "# control nodes and data flow nodes\n",
    "\n",
    "# control node for loop\n",
    "for control_node in json['DTS:Executables']['DTS:Executable']:\n",
    "    print(control_node)\n",
    "    print(\" control node name: \",control_node['DTS:ObjectName'])\n",
    "    print()\n",
    "\n",
    "    if control_node['DTS:Description'] == 'Sequence Container':\n",
    "        for executable in control_node['DTS:Executables']['DTS:Executable']:\n",
    "            print(\"     \", executable)\n",
    "            print(\"     executable name: \", executable['DTS:ObjectName'])\n",
    "            print()\n",
    "\n",
    "            if executable['DTS:CreationName'] == 'Microsoft.Pipeline':\n",
    "\n",
    "                for component in executable['DTS:ObjectData']['pipeline']['components']['component']:\n",
    "                    print(\"          \", component)\n",
    "                    print(\"          componenet name: \", component['name'])\n",
    "                    print()\n",
    "            elif executable['DTS:CreationName'] =='Microsoft.ExecuteSQLTask':\n",
    "                print(\"      \", executable['DTS:ObjectData']['SQLTask:SqlTaskData']['SQLTask:SqlStatementSource'])\n",
    "                print()\n",
    "\n",
    "            else:\n",
    "                print(executable['DTS:CreationName'])\n",
    "                print(executable)\n",
    "\n",
    "                print()\n",
    "\n",
    "      \n",
    "\n",
    " #           try:\n",
    " #               print('Output columns:')\n",
    " #               if type(node['outputs']['output'][0]['outputColumns']['outputColumn']) == list:\n",
    " #                   for col in node['outputs']['output'][0]['outputColumns']['outputColumn']:\n",
    " #                       print(col['name'])\n",
    " #               else:\n",
    " #                   print(node['outputs']['output'][0]['outputColumns']['outputColumn']['name'])\n",
    " #           except:\n",
    " #               pass\n",
    " #           try:\n",
    " #               print('Input columns:')\n",
    "#\n",
    " #               if type(node['inputs']['input']['inputColumns']['inputColumn']) == list:\n",
    " #                   for col in node['inputs']['input']['inputColumns']['inputColumn']:\n",
    " #                       print(col['cachedName'])\n",
    " #               else:\n",
    " #                   print(node['inputs']['input']['inputColumns']['inputColumn']['name'])\n",
    " #           except:\n",
    " #               pass\n",
    " #           print()\n",
    " #       print()\n",
    " #       print(\"######################\")\n",
    " #       print()"
   ]
  },
  {
   "cell_type": "code",
   "execution_count": 33,
   "metadata": {},
   "outputs": [
    {
     "data": {
      "text/plain": [
       "{'DTS:refId': 'Package\\\\Reset the NewFactCurrencyRate table',\n",
       " 'DTS:CreationName': 'Microsoft.ExecuteSQLTask',\n",
       " 'DTS:Description': 'Execute SQL Task - Reset the NewFactCurrencyRate table',\n",
       " 'DTS:DTSID': '{64A31708-4F22-45D9-A7E9-ACA1D19583E5}',\n",
       " 'DTS:ExecutableType': 'Microsoft.ExecuteSQLTask',\n",
       " 'DTS:LocaleID': '-1',\n",
       " 'DTS:ObjectName': 'Reset the NewFactCurrencyRate table',\n",
       " 'DTS:ThreadHint': '0',\n",
       " 'DTS:Variables': None,\n",
       " 'DTS:ObjectData': {'SQLTask:SqlTaskData': {'SQLTask:Connection': '{31048050-0EFE-4A02-AE66-8EA383EB43B4}',\n",
       "   'SQLTask:SqlStatementSource': \"DECLARE @OBJ_EXISTS AS BIT;\\n\\tSET @OBJ_EXISTS = 0;\\n\\n\\tDECLARE @OBJ_NAME AS VARCHAR(100);\\n\\tSET @OBJ_NAME = N'NewFactCurrencyRate';\\n\\xa0\\n\\tIF NOT EXISTS(SELECT 1 FROM sys.Tables WHERE Name = @OBJ_NAME AND Type = N'U')\\n\\tBEGIN\\n\\t\\tCREATE TABLE NewFactCurrencyRate (\\n\\t\\t\\t[AverageRate] REAL,\\n\\t\\t\\t[CurrencyID] NVARCHAR(50),\\n\\t\\t\\t[CurrencyDate] DATE,\\n\\t\\t\\t[EndOfDayRate] REAL,\\n\\t\\t\\t[CurrencyAlternateKey] NVARCHAR(3),\\n\\t\\t\\t[DateKey] INT\\n\\t\\t)\\n\\tEND\\n\\tELSE\\n\\tBEGIN\\n\\t\\tTRUNCATE TABLE NewFactCurrencyRate;\\n\\tEND\\n\\n-- EXECUTE [AdventureWorksDW2012].[dbo].[ResetNewFactCurrencyRate];\",\n",
       "   'xmlns:SQLTask': 'www.microsoft.com/sqlserver/dts/tasks/sqltask'}}}"
      ]
     },
     "execution_count": 33,
     "metadata": {},
     "output_type": "execute_result"
    }
   ],
   "source": [
    "control_node"
   ]
  },
  {
   "cell_type": "code",
   "execution_count": 34,
   "metadata": {},
   "outputs": [
    {
     "ename": "TypeError",
     "evalue": "list indices must be integers or slices, not str",
     "output_type": "error",
     "traceback": [
      "\u001b[1;31m---------------------------------------------------------------------------\u001b[0m",
      "\u001b[1;31mTypeError\u001b[0m                                 Traceback (most recent call last)",
      "Cell \u001b[1;32mIn[34], line 3\u001b[0m\n\u001b[0;32m      1\u001b[0m \u001b[38;5;66;03m# data flow nodes (with sql statements)\u001b[39;00m\n\u001b[1;32m----> 3\u001b[0m \u001b[38;5;28;01mfor\u001b[39;00m node \u001b[38;5;129;01min\u001b[39;00m \u001b[43mjson\u001b[49m\u001b[43m[\u001b[49m\u001b[38;5;124;43m'\u001b[39;49m\u001b[38;5;124;43mDTS:Executables\u001b[39;49m\u001b[38;5;124;43m'\u001b[39;49m\u001b[43m]\u001b[49m\u001b[43m[\u001b[49m\u001b[38;5;124;43m'\u001b[39;49m\u001b[38;5;124;43mDTS:Executable\u001b[39;49m\u001b[38;5;124;43m'\u001b[39;49m\u001b[43m]\u001b[49m\u001b[43m[\u001b[49m\u001b[38;5;124;43m'\u001b[39;49m\u001b[38;5;124;43mDTS:Executables\u001b[39;49m\u001b[38;5;124;43m'\u001b[39;49m\u001b[43m]\u001b[49m[\u001b[38;5;124m'\u001b[39m\u001b[38;5;124mDTS:Executable\u001b[39m\u001b[38;5;124m'\u001b[39m][\u001b[38;5;124m'\u001b[39m\u001b[38;5;124mDTS:ObjectData\u001b[39m\u001b[38;5;124m'\u001b[39m][\u001b[38;5;124m'\u001b[39m\u001b[38;5;124mpipeline\u001b[39m\u001b[38;5;124m'\u001b[39m][\u001b[38;5;124m'\u001b[39m\u001b[38;5;124mcomponents\u001b[39m\u001b[38;5;124m'\u001b[39m][\u001b[38;5;124m'\u001b[39m\u001b[38;5;124mcomponent\u001b[39m\u001b[38;5;124m'\u001b[39m]:\n\u001b[0;32m      4\u001b[0m     \u001b[38;5;28mprint\u001b[39m(\u001b[38;5;124m\"\u001b[39m\u001b[38;5;124mName node:\u001b[39m\u001b[38;5;124m\"\u001b[39m, node[\u001b[38;5;124m'\u001b[39m\u001b[38;5;124mname\u001b[39m\u001b[38;5;124m'\u001b[39m])\n\u001b[0;32m      5\u001b[0m     \u001b[38;5;28mprint\u001b[39m()\n",
      "\u001b[1;31mTypeError\u001b[0m: list indices must be integers or slices, not str"
     ]
    }
   ],
   "source": [
    "# data flow nodes (with sql statements)\n",
    "\n",
    "for node in json['DTS:Executables']['DTS:Executable']['DTS:Executables']['DTS:Executable']['DTS:ObjectData']['pipeline']['components']['component']:\n",
    "    print(\"Name node:\", node['name'])\n",
    "    print()\n",
    "    print(\"Description node:\", node['description'])\n",
    "    print()\n",
    "\n",
    "    try:\n",
    "        print('Output columns:')\n",
    "        if type(node['outputs']['output'][0]['outputColumns']['outputColumn']) == list:\n",
    "            for col in node['outputs']['output'][0]['outputColumns']['outputColumn']:\n",
    "                print(col['name'])\n",
    "        else:\n",
    "            print(node['outputs']['output'][0]['outputColumns']['outputColumn']['name'])\n",
    "    except:\n",
    "        pass\n",
    "    try:\n",
    "        print('Input columns:')\n",
    "\n",
    "        if type(node['inputs']['input']['inputColumns']['inputColumn']) == list:\n",
    "            for col in node['inputs']['input']['inputColumns']['inputColumn']:\n",
    "                print(col['cachedName'])\n",
    "        else:\n",
    "            print(node['inputs']['input']['inputColumns']['inputColumn']['name'])\n",
    "    except:\n",
    "        pass\n",
    "    print()\n",
    "    print(\"######################\")\n",
    "    print()\n",
    "        \n"
   ]
  },
  {
   "cell_type": "code",
   "execution_count": 35,
   "metadata": {},
   "outputs": [
    {
     "ename": "TypeError",
     "evalue": "list indices must be integers or slices, not str",
     "output_type": "error",
     "traceback": [
      "\u001b[1;31m---------------------------------------------------------------------------\u001b[0m",
      "\u001b[1;31mTypeError\u001b[0m                                 Traceback (most recent call last)",
      "Cell \u001b[1;32mIn[35], line 1\u001b[0m\n\u001b[1;32m----> 1\u001b[0m \u001b[43mjson\u001b[49m\u001b[43m[\u001b[49m\u001b[38;5;124;43m'\u001b[39;49m\u001b[38;5;124;43mDTS:Executables\u001b[39;49m\u001b[38;5;124;43m'\u001b[39;49m\u001b[43m]\u001b[49m\u001b[43m[\u001b[49m\u001b[38;5;124;43m'\u001b[39;49m\u001b[38;5;124;43mDTS:Executable\u001b[39;49m\u001b[38;5;124;43m'\u001b[39;49m\u001b[43m]\u001b[49m\u001b[43m[\u001b[49m\u001b[38;5;124;43m'\u001b[39;49m\u001b[38;5;124;43mDTS:Executables\u001b[39;49m\u001b[38;5;124;43m'\u001b[39;49m\u001b[43m]\u001b[49m[\u001b[38;5;124m'\u001b[39m\u001b[38;5;124mDTS:Executable\u001b[39m\u001b[38;5;124m'\u001b[39m][\u001b[38;5;124m'\u001b[39m\u001b[38;5;124mDTS:ObjectData\u001b[39m\u001b[38;5;124m'\u001b[39m][\u001b[38;5;124m'\u001b[39m\u001b[38;5;124mpipeline\u001b[39m\u001b[38;5;124m'\u001b[39m][\u001b[38;5;124m'\u001b[39m\u001b[38;5;124mcomponents\u001b[39m\u001b[38;5;124m'\u001b[39m][\u001b[38;5;124m'\u001b[39m\u001b[38;5;124mcomponent\u001b[39m\u001b[38;5;124m'\u001b[39m][\u001b[38;5;241m3\u001b[39m]\n",
      "\u001b[1;31mTypeError\u001b[0m: list indices must be integers or slices, not str"
     ]
    }
   ],
   "source": [
    "json['DTS:Executables']['DTS:Executable']['DTS:Executables']['DTS:Executable']['DTS:ObjectData']['pipeline']['components']['component'][3]\n"
   ]
  },
  {
   "cell_type": "code",
   "execution_count": 36,
   "metadata": {},
   "outputs": [
    {
     "ename": "TypeError",
     "evalue": "list indices must be integers or slices, not str",
     "output_type": "error",
     "traceback": [
      "\u001b[1;31m---------------------------------------------------------------------------\u001b[0m",
      "\u001b[1;31mTypeError\u001b[0m                                 Traceback (most recent call last)",
      "Cell \u001b[1;32mIn[36], line 7\u001b[0m\n\u001b[0;32m      1\u001b[0m \u001b[38;5;66;03m# locate name source tables and transformation\u001b[39;00m\n\u001b[0;32m      2\u001b[0m \u001b[38;5;66;03m# extract sql code from each node\u001b[39;00m\n\u001b[0;32m      3\u001b[0m \n\u001b[0;32m      4\u001b[0m \u001b[38;5;66;03m#for property in json['DTS:Executables']['DTS:Executable']['DTS:Executables']['DTS:Executable']['DTS:ObjectData']['pipeline']['components']['component'][4]['properties']['property']:\u001b[39;00m\n\u001b[0;32m      5\u001b[0m \u001b[38;5;66;03m#    print(property['#text'])\u001b[39;00m\n\u001b[1;32m----> 7\u001b[0m \u001b[38;5;28;01mfor\u001b[39;00m node \u001b[38;5;129;01min\u001b[39;00m \u001b[43mjson\u001b[49m\u001b[43m[\u001b[49m\u001b[38;5;124;43m'\u001b[39;49m\u001b[38;5;124;43mDTS:Executables\u001b[39;49m\u001b[38;5;124;43m'\u001b[39;49m\u001b[43m]\u001b[49m\u001b[43m[\u001b[49m\u001b[38;5;124;43m'\u001b[39;49m\u001b[38;5;124;43mDTS:Executable\u001b[39;49m\u001b[38;5;124;43m'\u001b[39;49m\u001b[43m]\u001b[49m\u001b[43m[\u001b[49m\u001b[38;5;124;43m'\u001b[39;49m\u001b[38;5;124;43mDTS:Executables\u001b[39;49m\u001b[38;5;124;43m'\u001b[39;49m\u001b[43m]\u001b[49m[\u001b[38;5;124m'\u001b[39m\u001b[38;5;124mDTS:Executable\u001b[39m\u001b[38;5;124m'\u001b[39m][\u001b[38;5;124m'\u001b[39m\u001b[38;5;124mDTS:ObjectData\u001b[39m\u001b[38;5;124m'\u001b[39m][\u001b[38;5;124m'\u001b[39m\u001b[38;5;124mpipeline\u001b[39m\u001b[38;5;124m'\u001b[39m][\u001b[38;5;124m'\u001b[39m\u001b[38;5;124mcomponents\u001b[39m\u001b[38;5;124m'\u001b[39m][\u001b[38;5;124m'\u001b[39m\u001b[38;5;124mcomponent\u001b[39m\u001b[38;5;124m'\u001b[39m]:\n\u001b[0;32m      8\u001b[0m     \u001b[38;5;28mprint\u001b[39m(\u001b[38;5;124m\"\u001b[39m\u001b[38;5;124mName node:\u001b[39m\u001b[38;5;124m\"\u001b[39m, node[\u001b[38;5;124m'\u001b[39m\u001b[38;5;124mname\u001b[39m\u001b[38;5;124m'\u001b[39m])\n\u001b[0;32m      9\u001b[0m     \u001b[38;5;28mprint\u001b[39m()\n",
      "\u001b[1;31mTypeError\u001b[0m: list indices must be integers or slices, not str"
     ]
    }
   ],
   "source": [
    "# locate name source tables and transformation\n",
    "# extract sql code from each node\n",
    "\n",
    "#for property in json['DTS:Executables']['DTS:Executable']['DTS:Executables']['DTS:Executable']['DTS:ObjectData']['pipeline']['components']['component'][4]['properties']['property']:\n",
    "#    print(property['#text'])\n",
    "\n",
    "for node in json['DTS:Executables']['DTS:Executable']['DTS:Executables']['DTS:Executable']['DTS:ObjectData']['pipeline']['components']['component']:\n",
    "    print(\"Name node:\", node['name'])\n",
    "    print()\n",
    "    try:\n",
    "\n",
    "        print(\"Connection db:\", node['connections']['connection']['connectionManagerID'])\n",
    "    except:\n",
    "        pass\n",
    "    print()\n",
    "\n",
    "    # db: connections connection database connectionManagerId\n",
    "\n",
    "    for property in node['properties']['property']:\n",
    "        if 'sql' in property['name'].lower():\n",
    "            if '#text' in property.keys():\n",
    "                print(property['#text'])\n",
    "                print()\n",
    "    print('#########################')\n",
    "    print()\n",
    "\n",
    "\n"
   ]
  },
  {
   "cell_type": "code",
   "execution_count": 37,
   "metadata": {},
   "outputs": [
    {
     "ename": "TypeError",
     "evalue": "list indices must be integers or slices, not str",
     "output_type": "error",
     "traceback": [
      "\u001b[1;31m---------------------------------------------------------------------------\u001b[0m",
      "\u001b[1;31mTypeError\u001b[0m                                 Traceback (most recent call last)",
      "Cell \u001b[1;32mIn[37], line 1\u001b[0m\n\u001b[1;32m----> 1\u001b[0m \u001b[43mjson\u001b[49m\u001b[43m[\u001b[49m\u001b[38;5;124;43m'\u001b[39;49m\u001b[38;5;124;43mDTS:Executables\u001b[39;49m\u001b[38;5;124;43m'\u001b[39;49m\u001b[43m]\u001b[49m\u001b[43m[\u001b[49m\u001b[38;5;124;43m'\u001b[39;49m\u001b[38;5;124;43mDTS:Executable\u001b[39;49m\u001b[38;5;124;43m'\u001b[39;49m\u001b[43m]\u001b[49m\u001b[43m[\u001b[49m\u001b[38;5;124;43m'\u001b[39;49m\u001b[38;5;124;43mDTS:Executables\u001b[39;49m\u001b[38;5;124;43m'\u001b[39;49m\u001b[43m]\u001b[49m[\u001b[38;5;124m'\u001b[39m\u001b[38;5;124mDTS:Executable\u001b[39m\u001b[38;5;124m'\u001b[39m][\u001b[38;5;124m'\u001b[39m\u001b[38;5;124mDTS:ObjectData\u001b[39m\u001b[38;5;124m'\u001b[39m][\u001b[38;5;124m'\u001b[39m\u001b[38;5;124mpipeline\u001b[39m\u001b[38;5;124m'\u001b[39m][\u001b[38;5;124m'\u001b[39m\u001b[38;5;124mcomponents\u001b[39m\u001b[38;5;124m'\u001b[39m][\u001b[38;5;124m'\u001b[39m\u001b[38;5;124mcomponent\u001b[39m\u001b[38;5;124m'\u001b[39m][\u001b[38;5;241m4\u001b[39m][\u001b[38;5;124m'\u001b[39m\u001b[38;5;124mconnections\u001b[39m\u001b[38;5;124m'\u001b[39m][\u001b[38;5;124m'\u001b[39m\u001b[38;5;124mconnection\u001b[39m\u001b[38;5;124m'\u001b[39m][\u001b[38;5;124m'\u001b[39m\u001b[38;5;124mconnectionManagerID\u001b[39m\u001b[38;5;124m'\u001b[39m]\n",
      "\u001b[1;31mTypeError\u001b[0m: list indices must be integers or slices, not str"
     ]
    }
   ],
   "source": [
    "json['DTS:Executables']['DTS:Executable']['DTS:Executables']['DTS:Executable']['DTS:ObjectData']['pipeline']['components']['component'][4]['connections']['connection']['connectionManagerID']"
   ]
  },
  {
   "cell_type": "code",
   "execution_count": null,
   "metadata": {},
   "outputs": [],
   "source": []
  }
 ],
 "metadata": {
  "kernelspec": {
   "display_name": "sap",
   "language": "python",
   "name": "python3"
  },
  "language_info": {
   "codemirror_mode": {
    "name": "ipython",
    "version": 3
   },
   "file_extension": ".py",
   "mimetype": "text/x-python",
   "name": "python",
   "nbconvert_exporter": "python",
   "pygments_lexer": "ipython3",
   "version": "3.10.14"
  }
 },
 "nbformat": 4,
 "nbformat_minor": 2
}
